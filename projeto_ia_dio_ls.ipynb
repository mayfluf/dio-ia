{
  "nbformat": 4,
  "nbformat_minor": 0,
  "metadata": {
    "colab": {
      "provenance": [],
      "authorship_tag": "ABX9TyP5cVurD1Fa/NMt7dwdm90w",
      "include_colab_link": true
    },
    "kernelspec": {
      "name": "python3",
      "display_name": "Python 3"
    },
    "language_info": {
      "name": "python"
    }
  },
  "cells": [
    {
      "cell_type": "markdown",
      "metadata": {
        "id": "view-in-github",
        "colab_type": "text"
      },
      "source": [
        "<a href=\"https://colab.research.google.com/github/mayfluf/dio-ia/blob/main/projeto_ia_dio_ls.ipynb\" target=\"_parent\"><img src=\"https://colab.research.google.com/assets/colab-badge.svg\" alt=\"Open In Colab\"/></a>"
      ]
    },
    {
      "cell_type": "markdown",
      "source": [
        "🚀 Como Usar Este Repositório\n",
        "Pré-requisitos:\n",
        "\n",
        "Conta no Azure com créditos gratuitos.\n",
        "\n",
        "Recursos criados no Azure:\n",
        "\n",
        "Speech Service (para análise de fala).\n",
        "\n",
        "Language Service (para NLP).\n",
        "\n",
        "Guias Detalhados:\n",
        "\n",
        "Speech Studio:\n",
        "\n",
        "Configurar recursos de fala.\n",
        "\n",
        "Converter áudio em texto (transcrição).\n",
        "\n",
        "Sintetizar voz a partir de texto.\n",
        "\n",
        "Tradução de fala em tempo real.\n",
        "\n",
        "Language Studio:\n",
        "\n",
        "Análise de sentimentos em textos.\n",
        "\n",
        "Reconhecimento de entidades (nomes, locais).\n",
        "\n",
        "Extração de frases-chave."
      ],
      "metadata": {
        "id": "l_cFHwUzbJb1"
      }
    },
    {
      "cell_type": "code",
      "execution_count": null,
      "metadata": {
        "id": "cdsIh_sUmNm-"
      },
      "outputs": [],
      "source": [
        "import azure.cognitiveservices.speech as speechsdk\n",
        "\n",
        "speech_key = \"SUA_CHAVE_AQUI\"\n",
        "speech_config = speechsdk.SpeechConfig(subscription=speech_key, region=\"eastus\")\n",
        "audio_input = speechsdk.AudioConfig(filename=\"audio/sample.wav\")\n",
        "recognizer = speechsdk.SpeechRecognizer(speech_config, audio_input)\n",
        "result = recognizer.recognize_once()\n",
        "print(result.text)"
      ]
    },
    {
      "cell_type": "code",
      "source": [
        "from azure.ai.textanalytics import TextAnalyticsClient\n",
        "from azure.core.credentials import AzureKeyCredential\n",
        "\n",
        "credential = AzureKeyCredential(\"SUA_CHAVE_AQUI\")\n",
        "client = TextAnalyticsClient(endpoint=\"https://SEU_ENDPOINT.cognitiveservices.azure.com/\", credential=credential)\n",
        "documents = [\"Adorei o atendimento! Foi rápido e eficiente.\"]\n",
        "response = client.analyze_sentiment(documents=documents)\n",
        "print(f\"Sentimento: {response[0].sentiment}\")"
      ],
      "metadata": {
        "id": "IdE6BTbIa8V3"
      },
      "execution_count": null,
      "outputs": []
    },
    {
      "cell_type": "markdown",
      "source": [
        "🔍 Insights e Desafios\n",
        "Desafio 1: Formato de áudio incompatível.\n",
        "Solução: Converter arquivos para WAV (16 kHz, mono) usando ferramentas como FFmpeg.\n",
        "\n",
        "Desafio 2: Limitação de idiomas no reconhecimento de fala.\n",
        "Solução: Usar o código \"pt-BR\" para português do Brasil no SpeechConfig.\n",
        "\n",
        "Insight: A API de tradução de fala permite criar aplicações multilíngues com poucas linhas de código.\n",
        "\n"
      ],
      "metadata": {
        "id": "fffOUT2Ba_d4"
      }
    }
  ]
}