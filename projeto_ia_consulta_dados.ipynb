{
  "nbformat": 4,
  "nbformat_minor": 0,
  "metadata": {
    "colab": {
      "provenance": [],
      "authorship_tag": "ABX9TyPWqI9jHtV5AKznaLguz3KB",
      "include_colab_link": true
    },
    "kernelspec": {
      "name": "python3",
      "display_name": "Python 3"
    },
    "language_info": {
      "name": "python"
    }
  },
  "cells": [
    {
      "cell_type": "markdown",
      "metadata": {
        "id": "view-in-github",
        "colab_type": "text"
      },
      "source": [
        "<a href=\"https://colab.research.google.com/github/mayfluf/dio-ia/blob/main/projeto_ia_consulta_dados.ipynb\" target=\"_parent\"><img src=\"https://colab.research.google.com/assets/colab-badge.svg\" alt=\"Open In Colab\"/></a>"
      ]
    },
    {
      "cell_type": "markdown",
      "source": [
        "Projeto: Azure Cognitive Search - Indexação e Consulta de Dados com AI Search\n",
        "Repositório dedicado à exploração do Azure Cognitive Search (antigo Azure Search), um serviço de busca inteligente baseado em IA para criar soluções de pesquisa avançada em dados estruturados e não estruturados.\n",
        "Objetivo: Demonstrar como configurar um pipeline de indexação, enriquecer dados com habilidades cognitivas (como OCR e PII Detection) e executar consultas complexas."
      ],
      "metadata": {
        "id": "5ouw1e6Fc6mz"
      }
    },
    {
      "cell_type": "code",
      "source": [
        "pip install azure-search-documents azure-storage-blob python-dotenv"
      ],
      "metadata": {
        "id": "y1AcVvATdE0S"
      },
      "execution_count": null,
      "outputs": []
    },
    {
      "cell_type": "code",
      "execution_count": null,
      "metadata": {
        "id": "FsLDNBt2oNYw"
      },
      "outputs": [],
      "source": [
        "from azure.core.credentials import AzureKeyCredential\n",
        "from azure.search.documents.indexes import SearchIndexClient\n",
        "\n",
        "client = SearchIndexClient(\n",
        "    endpoint=\"https://[nome-do-servico].search.windows.net\",\n",
        "    credential=AzureKeyCredential(\"SUA_CHAVE\")\n",
        ")\n",
        "\n",
        "index = {\n",
        "    \"name\": \"produtos\",\n",
        "    \"fields\": [\n",
        "        {\"name\": \"id\", \"type\": \"Edm.String\", \"key\": True},\n",
        "        {\"name\": \"nome\", \"type\": \"Edm.String\", \"searchable\": True},\n",
        "        {\"name\": \"descricao\", \"type\": \"Edm.String\", \"filterable\": True}\n",
        "    ]\n",
        "}\n",
        "client.create_index(index)"
      ]
    },
    {
      "cell_type": "code",
      "source": [
        "POST https://[nome-do-servico].search.windows.net/indexes/produtos/docs/search?api-version=2023-11-01\n",
        "{\n",
        "    \"search\": \"notebook*\",\n",
        "    \"facets\": [\"categoria\"],\n",
        "    \"filter\": \"preco lt 5000\"\n",
        "}"
      ],
      "metadata": {
        "id": "6FD332fic_Ld"
      },
      "execution_count": null,
      "outputs": []
    },
    {
      "cell_type": "code",
      "source": [
        "from azure.search.documents import SearchClient\n",
        "\n",
        "search_client = SearchClient(\n",
        "    endpoint=\"https://[servico].search.windows.net\",\n",
        "    index_name=\"produtos\",\n",
        "    credential=AzureKeyCredential(\"SUA_CHAVE\")\n",
        ")\n",
        "\n",
        "results = search_client.search(\n",
        "    search_text=\"gamer\",\n",
        "    select=[\"nome\", \"preco\"],\n",
        "    filter=\"categoria/any(c: c eq 'eletronicos')\",\n",
        "    top=5\n",
        ")\n",
        "\n",
        "for result in results:\n",
        "    print(f\"{result['nome']}: R${result['preco']}\")"
      ],
      "metadata": {
        "id": "z62-Tl8HdBuS"
      },
      "execution_count": null,
      "outputs": []
    }
  ]
}