{
  "nbformat": 4,
  "nbformat_minor": 0,
  "metadata": {
    "colab": {
      "provenance": [],
      "authorship_tag": "ABX9TyM2NLMhbs7SLmHhpD8yhjDt",
      "include_colab_link": true
    },
    "kernelspec": {
      "name": "python3",
      "display_name": "Python 3"
    },
    "language_info": {
      "name": "python"
    }
  },
  "cells": [
    {
      "cell_type": "markdown",
      "metadata": {
        "id": "view-in-github",
        "colab_type": "text"
      },
      "source": [
        "<a href=\"https://colab.research.google.com/github/mayfluf/dio-ia/blob/main/ptojrto_ia_git.ipynb\" target=\"_parent\"><img src=\"https://colab.research.google.com/assets/colab-badge.svg\" alt=\"Open In Colab\"/></a>"
      ]
    },
    {
      "cell_type": "code",
      "execution_count": null,
      "metadata": {
        "id": "8fpum-BiNObc"
      },
      "outputs": [],
      "source": [
        "pip install openai python-dotenv"
      ]
    },
    {
      "cell_type": "code",
      "source": [
        "import openai\n",
        "from dotenv import load_dotenv\n",
        "import os\n",
        "\n",
        "load_dotenv()\n",
        "openai.api_key = os.getenv(\"OPENAI_API_KEY\")\n",
        "\n",
        "def moderar_texto(texto):\n",
        "    resposta = openai.Moderation.create(input=texto)\n",
        "    return resposta[\"results\"][0]\n",
        "\n",
        "texto_analisado = \"Este é um exemplo de texto ofensivo: você é incompetente!\"\n",
        "resultado = moderar_texto(texto_analisado)\n",
        "print(f\"Flagged: {resultado['flagged']}\")\n",
        "print(f\"Categorias: {resultado['categories']}\")"
      ],
      "metadata": {
        "id": "nsg-smTAeDjX"
      },
      "execution_count": null,
      "outputs": []
    },
    {
      "cell_type": "code",
      "source": [
        "# Escreva uma função que ordene uma lista sem usar funções nativas do Python\n",
        "def bubble_sort(lista):\n",
        "    # [Copilot gera o código aqui]\n",
        "    def bubble_sort(lista):\n",
        "    n = len(lista)\n",
        "    for i in range(n):\n",
        "        for j in range(0, n-i-1):\n",
        "            if lista[j] > lista[j+1]:\n",
        "                lista[j], lista[j+1] = lista[j+1], lista[j]\n",
        "    return lista"
      ],
      "metadata": {
        "id": "fR89vnOceFKA"
      },
      "execution_count": null,
      "outputs": []
    }
  ]
}